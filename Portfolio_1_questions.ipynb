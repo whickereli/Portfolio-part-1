{
  "cells": [
    {
      "cell_type": "markdown",
      "id": "skHfgkqlqndO",
      "metadata": {
        "id": "skHfgkqlqndO"
      },
      "source": [
        "### Analysis of an E-commerce Dataset\n",
        "\n",
        "We have been provided with a combined e-commerce dataset. In this dataset, each user has the ability to post a rating and review for the products they purchased. Additionally, other users can evaluate the initial rating and review by expressing their trust or distrust.\n",
        "\n",
        "This dataset includes a wealth of information for each user. Details such as their profile, ID, gender, city of birth, product ratings (on a scale of 1-5), reviews, and the prices of the products they purchased are all included. Moreover, for each product rating, we have information about the product name, ID, price, and category, the rating score, the timestamp of the rating and review, and the average helpfulness of the rating given by others (on a scale of 1-5).\n",
        "\n",
        "The dataset is from several data sources, and we have merged all the data into a single CSV file named 'A Combined E-commerce Dataset.csv'. The structure of this dataset is represented in the header shown below.\n",
        "\n",
        "| userId | gender | rating | review| item | category | helpfulness | timestamp | item_id | item_price | user_city|\n",
        "\n",
        "    | ---- | ---- | ---- | ---- | ---- | ---- | ---- | ---- | ---- |  ---- |  ---- |  \n",
        "    \n",
        "#### Description of Fields\n",
        "\n",
        "* __userId__ - the user's id\n",
        "* __gender__ - the user's gender\n",
        "* __rating__ - the user's rating towards the item\n",
        "* __review__ - the user's review towards the item\n",
        "* __item__ - the item's name\n",
        "* __category__ - the category of the item\n",
        "* __helpfulness__ - the average helpfulness of this rating\n",
        "* __timestamp__ - the timestamp when the rating is created\n",
        "* __item_id__ - the item's id\n",
        "* __item_price__ - the item's price\n",
        "* __user_city__ - the city of user's birth\n",
        "\n",
        "Note that, a user may rate multiple items and an item may receive ratings and reviews from multiple users. The \"helpfulness\" is an average value based on all the helpfulness values given by others.\n",
        "\n",
        "There are four questions to explore with the data as shown below.\n",
        "\n",
        "\n",
        "\n",
        "<img src=\"data-relation.png\" align=\"left\" width=\"400\"/>\n",
        "(You can find the data relation diagram on iLearn - Portfolio Part 1 resources - Fig1)\n"
      ]
    },
    {
      "cell_type": "markdown",
      "id": "-tb7B7VTqndQ",
      "metadata": {
        "id": "-tb7B7VTqndQ"
      },
      "source": [
        " #### Q1. Remove missing data\n",
        "\n",
        "Please remove the following records in the csv file:\n",
        "\n",
        " * gender/rating/helpfulness is missing\n",
        " * review is 'none'\n",
        "\n",
        "__Display the DataFrame, counting number of Null values in each column, and print the length of the data__ before and after removing the missing data.  "
      ]
    },
    {
      "cell_type": "code",
      "execution_count": 26,
      "id": "ed7a2e15",
      "metadata": {},
      "outputs": [
        {
          "name": "stdout",
          "output_type": "stream",
          "text": [
            "Initial DataFrame:\n",
            "       userId  timestamp                                    review  \\\n",
            "0        4051      12807                 Great job for what it is!   \n",
            "1        4052     122899               Free Access Worth your Time   \n",
            "2          33      12700             AOL..I love you!!!!!!!!!!!!     \n",
            "3          33      21000              EBAY!!!  I LOVE YOU!!!! :-)*   \n",
            "4          33      22300           Blair Witch...Oh Come On.......   \n",
            "...       ...        ...                                       ...   \n",
            "19995   10805      50600                 The Upper Class Fast Food   \n",
            "19996   10806      82201             What more can you ask for????   \n",
            "19997   10806      82201          Excellent steak for a good price   \n",
            "19998   10807      31504                     Different story world   \n",
            "19999   10808      10200  Boldly Displaying Sigourneys Cleavage ..   \n",
            "\n",
            "                                                    item  rating  helpfulness  \\\n",
            "0                                                   eBay     5.0          2.0   \n",
            "1                                                NetZero     5.0          0.0   \n",
            "2                                   AOL (America Online)     5.0          4.0   \n",
            "3                                                   eBay     5.0          4.0   \n",
            "4                                    Blair Witch Project     1.0          4.0   \n",
            "...                                                  ...     ...          ...   \n",
            "19995                                            Wendy's     2.0          3.0   \n",
            "19996                                       Olive Garden     4.0          0.0   \n",
            "19997                                 Outback Steakhouse     4.0          3.0   \n",
            "19998  J. K. Rowling - Harry Potter and the Sorcerer'...     4.0          0.0   \n",
            "19999                                       Galaxy Quest     4.0          0.0   \n",
            "\n",
            "      gender                  category  item_id  item_price  user_city  \n",
            "0          F  Online Stores & Services       88      149.00         39  \n",
            "1          F  Online Stores & Services       46       53.00         39  \n",
            "2          F  Online Stores & Services        0      145.84         31  \n",
            "3          F  Online Stores & Services       88      149.00         31  \n",
            "4          F                    Movies       12       44.00         31  \n",
            "...      ...                       ...      ...         ...        ...  \n",
            "19995      F     Restaurants & Gourmet       84       69.00         18  \n",
            "19996      M     Restaurants & Gourmet       49       32.00         28  \n",
            "19997      M     Restaurants & Gourmet       50       25.00         28  \n",
            "19998      M                     Books       36       96.00         27  \n",
            "19999      M                    Movies       29       67.00         11  \n",
            "\n",
            "[20000 rows x 11 columns]\n",
            "\n",
            "Number of null values in each column:\n",
            "userId          0\n",
            "timestamp       0\n",
            "review          0\n",
            "item            0\n",
            "rating         17\n",
            "helpfulness    22\n",
            "gender         27\n",
            "category        0\n",
            "item_id         0\n",
            "item_price      0\n",
            "user_city       0\n",
            "dtype: int64\n",
            "\n",
            "Length of the data:  20000\n",
            "\n",
            "DataFrame after removing missing data:\n",
            "       userId  timestamp                                    review  \\\n",
            "0        4051      12807                 Great job for what it is!   \n",
            "1        4052     122899               Free Access Worth your Time   \n",
            "2          33      12700             AOL..I love you!!!!!!!!!!!!     \n",
            "3          33      21000              EBAY!!!  I LOVE YOU!!!! :-)*   \n",
            "4          33      22300           Blair Witch...Oh Come On.......   \n",
            "...       ...        ...                                       ...   \n",
            "19995   10805      50600                 The Upper Class Fast Food   \n",
            "19996   10806      82201             What more can you ask for????   \n",
            "19997   10806      82201          Excellent steak for a good price   \n",
            "19998   10807      31504                     Different story world   \n",
            "19999   10808      10200  Boldly Displaying Sigourneys Cleavage ..   \n",
            "\n",
            "                                                    item  rating  helpfulness  \\\n",
            "0                                                   eBay     5.0          2.0   \n",
            "1                                                NetZero     5.0          0.0   \n",
            "2                                   AOL (America Online)     5.0          4.0   \n",
            "3                                                   eBay     5.0          4.0   \n",
            "4                                    Blair Witch Project     1.0          4.0   \n",
            "...                                                  ...     ...          ...   \n",
            "19995                                            Wendy's     2.0          3.0   \n",
            "19996                                       Olive Garden     4.0          0.0   \n",
            "19997                                 Outback Steakhouse     4.0          3.0   \n",
            "19998  J. K. Rowling - Harry Potter and the Sorcerer'...     4.0          0.0   \n",
            "19999                                       Galaxy Quest     4.0          0.0   \n",
            "\n",
            "      gender                  category  item_id  item_price  user_city  \n",
            "0          F  Online Stores & Services       88      149.00         39  \n",
            "1          F  Online Stores & Services       46       53.00         39  \n",
            "2          F  Online Stores & Services        0      145.84         31  \n",
            "3          F  Online Stores & Services       88      149.00         31  \n",
            "4          F                    Movies       12       44.00         31  \n",
            "...      ...                       ...      ...         ...        ...  \n",
            "19995      F     Restaurants & Gourmet       84       69.00         18  \n",
            "19996      M     Restaurants & Gourmet       49       32.00         28  \n",
            "19997      M     Restaurants & Gourmet       50       25.00         28  \n",
            "19998      M                     Books       36       96.00         27  \n",
            "19999      M                    Movies       29       67.00         11  \n",
            "\n",
            "[19916 rows x 11 columns]\n",
            "\n",
            "Number of null values in each column:\n",
            "userId         0\n",
            "timestamp      0\n",
            "review         0\n",
            "item           0\n",
            "rating         0\n",
            "helpfulness    0\n",
            "gender         0\n",
            "category       0\n",
            "item_id        0\n",
            "item_price     0\n",
            "user_city      0\n",
            "dtype: int64\n",
            "\n",
            "Length of the data:  19916\n"
          ]
        }
      ],
      "source": [
        "import pandas as pd\n",
        "\n",
        "df = pd.read_csv('The E-commerce Dataset.csv')\n",
        "\n",
        "print(\"Initial DataFrame:\")\n",
        "print(df)\n",
        "print(\"\\nNumber of null values in each column:\")\n",
        "print(df.isnull().sum())\n",
        "print(\"\\nLength of the data: \", len(df))\n",
        "\n",
        "df = df.dropna(subset=['gender', 'rating', 'helpfulness'])\n",
        "\n",
        "df = df[df['review'] != 'none']\n",
        "\n",
        "print(\"\\nDataFrame after removing missing data:\")\n",
        "print(df)\n",
        "print(\"\\nNumber of null values in each column:\")\n",
        "print(df.isnull().sum())\n",
        "print(\"\\nLength of the data: \", len(df))"
      ]
    },
    {
      "cell_type": "markdown",
      "id": "EJG9_LEmqndR",
      "metadata": {
        "id": "EJG9_LEmqndR"
      },
      "source": [
        "#### Q2. Descriptive statistics\n",
        "\n",
        "With the cleaned data in Q1, please provide the data summarization as below:\n",
        "\n",
        "* Q2.1 total number of unique users, unique reviews, unique items, and unique categories\n",
        "* Q2.2 descriptive statistics, e.g., the total number, mean, std, min and max regarding all rating records\n",
        "* Q2.3 descriptive statistics, e.g., mean, std, max, and min of the number of items rated by different genders\n",
        "* Q2.4 descriptive statistics, e.g., mean, std, max, min of the number of ratings that received by each items\n"
      ]
    },
    {
      "cell_type": "code",
      "execution_count": 15,
      "id": "-fiucmwsqndR",
      "metadata": {
        "id": "-fiucmwsqndR"
      },
      "outputs": [
        {
          "name": "stdout",
          "output_type": "stream",
          "text": [
            "Index(['userId', 'timestamp', 'review', 'item', 'rating', 'helpfulness',\n",
            "       'gender', 'category', 'item_id', 'item_price', 'user_city'],\n",
            "      dtype='object')\n",
            "Total number of unique users:  8562\n",
            "Total number of unique reviews:  2283\n",
            "Total number of unique items:  89\n",
            "Total number of unique categories:  89\n"
          ]
        }
      ],
      "source": [
        "\n",
        "print(df.columns)\n",
        "\n",
        "n_unique_users = df['user_id'].nunique() if 'user_id' in df.columns else df[df.columns[0]].nunique()\n",
        "n_unique_reviews = df['review_id'].nunique() if 'review_id' in df.columns else df[df.columns[1]].nunique()\n",
        "n_unique_items = df['item_id'].nunique() if 'item_id' in df.columns else df[df.columns[2]].nunique()\n",
        "n_unique_categories = df['category_id'].nunique() if 'category_id' in df.columns else df[df.columns[3]].nunique()\n",
        "\n",
        "print(\"Total number of unique users: \", n_unique_users)\n",
        "print(\"Total number of unique reviews: \", n_unique_reviews)\n",
        "print(\"Total number of unique items: \", n_unique_items)\n",
        "print(\"Total number of unique categories: \", n_unique_categories)"
      ]
    },
    {
      "cell_type": "code",
      "execution_count": 17,
      "id": "00b40e5f",
      "metadata": {},
      "outputs": [
        {
          "name": "stdout",
          "output_type": "stream",
          "text": [
            "\n",
            "Descriptive statistics of the rating records:\n",
            "count    19916.000000\n",
            "mean         3.701798\n",
            "std          1.404451\n",
            "min          1.000000\n",
            "25%          3.000000\n",
            "50%          4.000000\n",
            "75%          5.000000\n",
            "max          5.000000\n",
            "Name: rating, dtype: float64\n"
          ]
        }
      ],
      "source": [
        "rating_stats = df['rating'].describe()\n",
        "print(\"\\nDescriptive statistics of the rating records:\")\n",
        "print(rating_stats)"
      ]
    },
    {
      "cell_type": "code",
      "execution_count": 18,
      "id": "4db79c09",
      "metadata": {},
      "outputs": [
        {
          "name": "stdout",
          "output_type": "stream",
          "text": [
            "\n",
            "Descriptive statistics of the number of items rated by different genders:\n",
            "count     2.0\n",
            "mean     89.0\n",
            "std       0.0\n",
            "min      89.0\n",
            "25%      89.0\n",
            "50%      89.0\n",
            "75%      89.0\n",
            "max      89.0\n",
            "Name: item_id, dtype: float64\n"
          ]
        }
      ],
      "source": [
        "gender_stats = df.groupby('gender')['item_id'].nunique().describe()\n",
        "print(\"\\nDescriptive statistics of the number of items rated by different genders:\")\n",
        "print(gender_stats)"
      ]
    },
    {
      "cell_type": "markdown",
      "id": "PISggxe5qndR",
      "metadata": {
        "id": "PISggxe5qndR"
      },
      "source": [
        "#### Q3. Plotting and Analysis\n",
        "\n",
        "Please try to explore the correlation between gender/helpfulness/category and ratings; for instance, do female/male users tend to provide higher ratings than male/female users? Hint: you may use the boxplot function to plot figures for comparison (___Challenge___)\n",
        "    \n",
        "You may need to select the most suitable graphic forms for ease of presentation. Most importantly, for each figure or subfigure, please summarise ___what each plot shows___ (i.e. observations and explanations). Finally, you may need to provide an overall summary of the data."
      ]
    },
    {
      "cell_type": "code",
      "execution_count": 20,
      "id": "Zyuvw_WlqndR",
      "metadata": {
        "id": "Zyuvw_WlqndR"
      },
      "outputs": [],
      "source": [
        "import matplotlib.pyplot as plt"
      ]
    },
    {
      "cell_type": "code",
      "execution_count": 21,
      "id": "4a732dec",
      "metadata": {},
      "outputs": [
        {
          "data": {
            "text/plain": [
              "Text(0, 0.5, 'Rating')"
            ]
          },
          "execution_count": 21,
          "metadata": {},
          "output_type": "execute_result"
        },
        {
          "data": {
            "image/png": "[encoded data removed]",
            "text/plain": [
              "<Figure size 640x480 with 1 Axes>"
            ]
          },
          "metadata": {},
          "output_type": "display_data"
        }
      ],
      "source": [
        "sns.set(style='whitegrid')\n",
        "g = sns.boxplot(x='gender', y='rating', data=df)\n",
        "g.set_title('Ratings by Gender')\n",
        "g.set_xlabel('Gender')\n",
        "g.set_ylabel('Rating')\n",
        "\n",
        "#The boxplot shows the distribution of ratings for each gender, \n",
        "#including the median, the upper and lower quartiles, and the whiskers. \n",
        "#Outliers are plotted as individual points beyond the whiskers.\n",
        "\n",
        "#The median rating for female users is slightly higher than that for male users.\n",
        "#The range of ratings for female users is slightly larger than that for male users.\n",
        "#There are more outliers for female users than for male users"
      ]
    },
    {
      "cell_type": "code",
      "execution_count": 23,
      "id": "f8beca4a",
      "metadata": {},
      "outputs": [
        {
          "data": {
            "text/plain": [
              "Text(0, 0.5, 'Rating')"
            ]
          },
          "execution_count": 23,
          "metadata": {},
          "output_type": "execute_result"
        },
        {
          "data": {
            "image/png": "[encoded data removed]",
            "text/plain": [
              "<Figure size 640x480 with 1 Axes>"
            ]
          },
          "metadata": {},
          "output_type": "display_data"
        }
      ],
      "source": [
        "sns.set(style='whitegrid')\n",
        "g = sns.boxplot(x='helpfulness', y='rating', data=df)\n",
        "g.set_title('Ratings by Helpfulness')\n",
        "g.set_xlabel('Helpfulness')\n",
        "g.set_ylabel('Rating')"
      ]
    },
    {
      "cell_type": "markdown",
      "id": "TxD3SLxRqndR",
      "metadata": {
        "id": "TxD3SLxRqndR"
      },
      "source": [
        "#### Q4. Detect and remove outliers\n",
        "\n",
        "We may define outlier users, reviews and items with three rules (if a record meets one of the rules, it is regarded as an outlier):\n",
        "\n",
        "1. reviews of which the helpfulness is no more than 2\n",
        "2. users who rate less than 7 items\n",
        "3. items that receives less than 11 ratings\n",
        "\n",
        "Please remove the corresponding records in the csv file that involves outlier users, reviews and items. You need to follow the order of rules to perform data cleaning operations. After that, __print the length of the data__."
      ]
    },
    {
      "cell_type": "code",
      "execution_count": 25,
      "id": "JaQJmew4qndR",
      "metadata": {
        "id": "JaQJmew4qndR"
      },
      "outputs": [
        {
          "name": "stdout",
          "output_type": "stream",
          "text": [
            "Index(['userId', 'timestamp', 'review', 'item', 'rating', 'helpfulness',\n",
            "       'gender', 'category', 'item_id', 'item_price', 'user_city'],\n",
            "      dtype='object')\n",
            "Length of the data:  0\n"
          ]
        }
      ],
      "source": [
        "print(df.columns)\n",
        "\n",
        "df = df[df['helpfulness'] > 2]\n",
        "\n",
        "n_ratings = df.groupby(df.columns[0])['rating'].count()\n",
        "df = df[df.index.isin(n_ratings[n_ratings >= 7].index)]\n",
        "\n",
        "n_ratings = df.groupby(df.columns[2])['rating'].count()\n",
        "df = df[df.index.isin(n_ratings[n_ratings >= 11].index)]\n",
        "\n",
        "print(\"Length of the data: \", len(df))"
      ]
    }
  ],
  "metadata": {
    "colab": {
      "provenance": []
    },
    "kernelspec": {
      "display_name": "Python 3",
      "language": "python",
      "name": "python3"
    },
    "language_info": {
      "codemirror_mode": {
        "name": "ipython",
        "version": 3
      },
      "file_extension": ".py",
      "mimetype": "text/x-python",
      "name": "python",
      "nbconvert_exporter": "python",
      "pygments_lexer": "ipython3",
      "version": "3.11.5"
    }
  },
  "nbformat": 4,
  "nbformat_minor": 5
}
